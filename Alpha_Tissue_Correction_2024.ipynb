{
 "cells": [
  {
   "cell_type": "markdown",
   "metadata": {},
   "source": [
    "# TISSUE CORRECTION\n",
    "### Created by: Samantha A Leech, Last updated: April 19, 2024 \n",
    "\n",
    "**Purpose:** performs relaxation and tissue correction for proton magnetic resonance spectroscopy data <br>\n",
    "**Required:** an excel sheet that contains...<br>\n",
    "-segmented tissue volume fractions (extracted using FSL or SPM12, which can be implemented with the Gannet CoRegStandAlone function in MatLab)<br>-raw signal data for NAA, tCr, tCho, Glu, Glx, Myo (for example, output quantification from LCModel)\n",
    "        \n",
    "**Step 1**<br>Scroll down to the \"Your Inputs\" and fill in the required information\n",
    "\n",
    "**Step 2**<br>Press Run\n",
    "\n",
    "**Step 3**<br>Your tissue corrected outputs will be saved in the Excel sheet your set as your data output file path as 6 separate sheets called \"NAA_TissueCorr\", \"Cr_TissueCorr\", \"Cho_TissueCorr\", \"Glu_TissueCorr\", \"Glx_TissueCorr\", and \"Myo_TissueCorr\". Within each sheet there will be molal (mmol/kg) and molar (mmol/L) output with suffixes \"_MolalAlpha\" and \"_MolarAlpha\" for concentrations outputs with the recommended alpha correction (that accounts for differening concentrations of metabolites in GM and WM), noramlized to an 100% GM voxel. Suffixes \"_MolalNorm\" and \"_MolarNorm\" are alpha corrected but normalized to a 50% GM, 50% WM voxel. Suffixes \"_MolalCSF\" and \"_MolarCSF\" are CSF corrected as per Gasparovic et al (2018).\n",
    "\n",
    "**Step 4**<br>Scroll down to the bottom of the sheet and see how your data performed with the recommended \"Alpha correction\" as per Leech et al (2024) compared to the conventional \"CSF correction\" by Gasparovic et al (2018) - the flatter the regression line, better! (Note: these lines will be the same for choline as alpha = 1).\n",
    "\n",
    "**Step 5**<br>If desired, play around with the alpha values. For example, if you have anteriorly located voxels, you may choose to use the anterior alpha values whereas if you have a mixture of voxels located throughout the brain, it might be best to keep the default values.\n"
   ]
  },
  {
   "cell_type": "markdown",
   "metadata": {},
   "source": [
    "### Your Inputs"
   ]
  },
  {
   "cell_type": "code",
   "execution_count": 5,
   "metadata": {},
   "outputs": [],
   "source": [
    "#Data INPUT file path (e.g.'/File/path/to/TissCorr_Test.xlsx'):\n",
    "my_INPUT_filepath = '/File/path/to/TissCorr_Test.xlsx'\n",
    "\n",
    "#Data OUTPUT file path (e.g.'/File/path/to/TissCorr_Test.xlsx'):\n",
    "my_OUTPUT_filepath = '/File/path/to/TissCorr_Test.xlsx'\n",
    "\n",
    "#GM volume fraction column name (e.g.'fGM_vol'):\n",
    "GM_fraction_column_name = 'fGM_vol'\n",
    "\n",
    "#WM volume fraction column name (e.g. 'f_WM_vol'):\n",
    "WM_fraction_column_name = 'fWM_vol'\n",
    "\n",
    "#CSF volume fraction column name (e.g. 'f_CSF_vol'):\n",
    "CSF_fraction_column_name = 'fCSF_vol'\n",
    "\n",
    "#tNAA data column name (e.g. ' NAA+NAAG'):\n",
    "tNAA_data_column_name = 'tNAA'\n",
    "\n",
    "#tCr data column name (e.g. ' Cr+PCr'):\n",
    "tCr_data_column_name = 'tCr'\n",
    "\n",
    "#tCho data column name (e.g. ' Cho+GPC+PCh'):\n",
    "tCho_data_column_name = 'tCho'\n",
    "\n",
    "#Myo data column name (e.g. ' mI'):\n",
    "Myo_data_column_name = 'Myo'\n",
    "\n",
    "#Glu data column name (e.g. ' Glu'):\n",
    "Glu_data_column_name = 'Glu'\n",
    "\n",
    "#Glx data column name (e.g. ' Glu+Gln'):\n",
    "Glx_data_column_name = 'Glx'\n",
    "\n",
    "#TE [in seconds] (e.g. 0.035):\n",
    "TE_sec = 0.030\n",
    "\n",
    "#TR [in seconds] (e.g. 3):\n",
    "TR_sec = 1.8"
   ]
  },
  {
   "cell_type": "markdown",
   "metadata": {},
   "source": [
    "### Process Inputs"
   ]
  },
  {
   "cell_type": "code",
   "execution_count": 6,
   "metadata": {},
   "outputs": [
    {
     "data": {
      "application/vnd.jupyter.widget-view+json": {
       "model_id": "55fe5aadd9b440cfb71b1c53ef7170f1",
       "version_major": 2,
       "version_minor": 0
      },
      "text/plain": [
       "Label(value='Check your nputs are correct:')"
      ]
     },
     "metadata": {},
     "output_type": "display_data"
    },
    {
     "data": {
      "application/vnd.jupyter.widget-view+json": {
       "model_id": "c654b949422948c58f76549c222aa638",
       "version_major": 2,
       "version_minor": 0
      },
      "text/plain": [
       "HBox(children=(Label(value='Data INPUT file path (mdata):'), Text(value='/Users/sam/Desktop/KOAPAIN_FINAL_CLEA…"
      ]
     },
     "metadata": {},
     "output_type": "display_data"
    },
    {
     "data": {
      "application/vnd.jupyter.widget-view+json": {
       "model_id": "bd636dd1aacc4046aaac30b9c4454e90",
       "version_major": 2,
       "version_minor": 0
      },
      "text/plain": [
       "HBox(children=(Label(value='Data OUTPUT file path (ExcelSheet):'), Text(value='/Users/sam/Desktop/KOAPAIN_FINA…"
      ]
     },
     "metadata": {},
     "output_type": "display_data"
    },
    {
     "data": {
      "application/vnd.jupyter.widget-view+json": {
       "model_id": "8d43db53131a4351a3cab29cd7124acd",
       "version_major": 2,
       "version_minor": 0
      },
      "text/plain": [
       "HBox(children=(Label(value='GM volume fraction column name (f_GM_vol):'), Text(value='fGM_vol', placeholder='E…"
      ]
     },
     "metadata": {},
     "output_type": "display_data"
    },
    {
     "data": {
      "application/vnd.jupyter.widget-view+json": {
       "model_id": "daea768db6e34a118237dabdb0a09ef9",
       "version_major": 2,
       "version_minor": 0
      },
      "text/plain": [
       "HBox(children=(Label(value='WM volume fraction column name (f_WM_vol):'), Text(value='fWM_vol', placeholder='E…"
      ]
     },
     "metadata": {},
     "output_type": "display_data"
    },
    {
     "data": {
      "application/vnd.jupyter.widget-view+json": {
       "model_id": "6b7c3ec1ac4246dfa1b47c6c8aca334d",
       "version_major": 2,
       "version_minor": 0
      },
      "text/plain": [
       "HBox(children=(Label(value='CSF volume fraction column name (f_CSF_vol):'), Text(value='fCSF_vol', placeholder…"
      ]
     },
     "metadata": {},
     "output_type": "display_data"
    },
    {
     "data": {
      "application/vnd.jupyter.widget-view+json": {
       "model_id": "9dcc9a66a12647e09a8d66579eaa7070",
       "version_major": 2,
       "version_minor": 0
      },
      "text/plain": [
       "HBox(children=(Label(value='tNAA data column name (c_NAA_raw):'), Text(value='tNAA', placeholder='Enter column…"
      ]
     },
     "metadata": {},
     "output_type": "display_data"
    },
    {
     "data": {
      "application/vnd.jupyter.widget-view+json": {
       "model_id": "6a3f23edc6104344987e515cd617d349",
       "version_major": 2,
       "version_minor": 0
      },
      "text/plain": [
       "HBox(children=(Label(value='tCr data column name (c_Cr_raw):'), Text(value='tCr', placeholder='Enter column na…"
      ]
     },
     "metadata": {},
     "output_type": "display_data"
    },
    {
     "data": {
      "application/vnd.jupyter.widget-view+json": {
       "model_id": "42c5ab31b20540d3a333c4565195967c",
       "version_major": 2,
       "version_minor": 0
      },
      "text/plain": [
       "HBox(children=(Label(value='tCho data column name (c_Cho_raw):'), Text(value='tCho', placeholder='Enter column…"
      ]
     },
     "metadata": {},
     "output_type": "display_data"
    },
    {
     "data": {
      "application/vnd.jupyter.widget-view+json": {
       "model_id": "647d890bdc0a43489f94642eee250155",
       "version_major": 2,
       "version_minor": 0
      },
      "text/plain": [
       "HBox(children=(Label(value='Myo data column name (c_Myo_raw):'), Text(value='Myo', placeholder='Enter column n…"
      ]
     },
     "metadata": {},
     "output_type": "display_data"
    },
    {
     "data": {
      "application/vnd.jupyter.widget-view+json": {
       "model_id": "b879c17ea2db4e529a3cb46d01fbdf8d",
       "version_major": 2,
       "version_minor": 0
      },
      "text/plain": [
       "HBox(children=(Label(value='Glu data column name (c_Glu_raw):'), Text(value='Glu', placeholder='Enter column n…"
      ]
     },
     "metadata": {},
     "output_type": "display_data"
    },
    {
     "data": {
      "application/vnd.jupyter.widget-view+json": {
       "model_id": "54d47772cf374bd186d960641f60dce0",
       "version_major": 2,
       "version_minor": 0
      },
      "text/plain": [
       "HBox(children=(Label(value='Glx data column name (c_Glx_raw):'), Text(value='Glx', placeholder='Enter column n…"
      ]
     },
     "metadata": {},
     "output_type": "display_data"
    },
    {
     "data": {
      "application/vnd.jupyter.widget-view+json": {
       "model_id": "21d05bcfddbf4799a21acf86b0b85804",
       "version_major": 2,
       "version_minor": 0
      },
      "text/plain": [
       "HBox(children=(Label(value='TE [in seconds]:'), FloatText(value=0.03)))"
      ]
     },
     "metadata": {},
     "output_type": "display_data"
    },
    {
     "data": {
      "application/vnd.jupyter.widget-view+json": {
       "model_id": "0420414477ba452eb5eccb76ff940921",
       "version_major": 2,
       "version_minor": 0
      },
      "text/plain": [
       "HBox(children=(Label(value='TR [in seconds]:'), FloatText(value=1.8)))"
      ]
     },
     "metadata": {},
     "output_type": "display_data"
    }
   ],
   "source": [
    "import math\n",
    "import pandas as pd\n",
    "import openpyxl\n",
    "from openpyxl import load_workbook\n",
    "import matplotlib.pyplot as plt\n",
    "import seaborn as sns\n",
    "import numpy as np  \n",
    "import statsmodels.api as sm\n",
    "from ipywidgets import widgets\n",
    "from IPython.display import display\n",
    "\n",
    "\n",
    "# Default values from the script\n",
    "default_mdata = my_INPUT_filepath\n",
    "default_ExcelSheet = my_OUTPUT_filepath\n",
    "default_f_GM_vol = GM_fraction_column_name\n",
    "default_f_WM_vol = WM_fraction_column_name\n",
    "default_f_CSF_vol = CSF_fraction_column_name\n",
    "default_c_NAA_raw = tNAA_data_column_name\n",
    "default_c_Cr_raw = tCr_data_column_name\n",
    "default_c_Cho_raw = tCho_data_column_name\n",
    "default_c_Myo_raw = Myo_data_column_name\n",
    "default_c_Glu_raw = Glu_data_column_name\n",
    "default_c_Glx_raw = Glx_data_column_name\n",
    "default_TE = TE_sec\n",
    "default_TR = TR_sec\n",
    "\n",
    "\n",
    "# Create text widgets for user input with default values\n",
    "mdata_widget = widgets.Text(placeholder='Enter the file path for the Excel file where your input data is located', value=default_mdata)\n",
    "ExcelSheet_widget = widgets.Text(placeholder='Enter the file path for the Excel file where your data will be saved', value=default_ExcelSheet)\n",
    "f_GM_vol_widget = widgets.Text(placeholder='Enter column name for volume fraction of GM', value=default_f_GM_vol)\n",
    "f_WM_vol_widget = widgets.Text(placeholder='Enter column name for volume fraction of WM', value=default_f_WM_vol)\n",
    "f_CSF_vol_widget = widgets.Text(placeholder='Enter column name for volume fraction of CSF', value=default_f_CSF_vol)\n",
    "c_NAA_raw_widget = widgets.Text(placeholder='Enter column name for raw tNAA data', value=default_c_NAA_raw)\n",
    "c_Cr_raw_widget = widgets.Text(placeholder='Enter column name for raw tCr data', value=default_c_Cr_raw)\n",
    "c_Cho_raw_widget = widgets.Text(placeholder='Enter column name for raw tCho data', value=default_c_Cho_raw)\n",
    "c_Myo_raw_widget = widgets.Text(placeholder='Enter column name for raw Myo data', value=default_c_Myo_raw)\n",
    "c_Glu_raw_widget = widgets.Text(placeholder='Enter column name for raw Glu data', value=default_c_Glu_raw)\n",
    "c_Glx_raw_widget = widgets.Text(placeholder='Enter column name for raw Glx data', value=default_c_Glx_raw)\n",
    "TE_widget = widgets.FloatText(placeholder='Enter the value for TE [in seconds]', value=default_TE)\n",
    "TR_widget = widgets.FloatText(placeholder='Enter the value for TR [in seconds]', value=default_TR)\n",
    "\n",
    "# Display the widgets\n",
    "display(widgets.Label('Check your nputs are correct:'))\n",
    "display(widgets.HBox([widgets.Label('Data INPUT file path (mdata):'), mdata_widget]))\n",
    "display(widgets.HBox([widgets.Label('Data OUTPUT file path (ExcelSheet):'), ExcelSheet_widget]))\n",
    "display(widgets.HBox([widgets.Label('GM volume fraction column name (f_GM_vol):'), f_GM_vol_widget]))\n",
    "display(widgets.HBox([widgets.Label('WM volume fraction column name (f_WM_vol):'), f_WM_vol_widget]))\n",
    "display(widgets.HBox([widgets.Label('CSF volume fraction column name (f_CSF_vol):'), f_CSF_vol_widget]))\n",
    "display(widgets.HBox([widgets.Label('tNAA data column name (c_NAA_raw):'), c_NAA_raw_widget]))\n",
    "display(widgets.HBox([widgets.Label('tCr data column name (c_Cr_raw):'), c_Cr_raw_widget]))\n",
    "display(widgets.HBox([widgets.Label('tCho data column name (c_Cho_raw):'), c_Cho_raw_widget]))\n",
    "display(widgets.HBox([widgets.Label('Myo data column name (c_Myo_raw):'), c_Myo_raw_widget]))\n",
    "display(widgets.HBox([widgets.Label('Glu data column name (c_Glu_raw):'), c_Glu_raw_widget]))\n",
    "display(widgets.HBox([widgets.Label('Glx data column name (c_Glx_raw):'), c_Glx_raw_widget]))\n",
    "display(widgets.HBox([widgets.Label('TE [in seconds]:'), TE_widget]))\n",
    "display(widgets.HBox([widgets.Label('TR [in seconds]:'), TR_widget]))\n",
    "\n",
    "# Retrieve user input\n",
    "mdata = pd.read_excel(mdata_widget.value)\n",
    "ExcelSheet = ExcelSheet_widget.value\n",
    "f_GM_vol = mdata[f_GM_vol_widget.value]\n",
    "f_WM_vol = mdata[f_WM_vol_widget.value]\n",
    "f_CSF_vol = mdata[f_CSF_vol_widget.value]\n",
    "c_NAA_raw = mdata[c_NAA_raw_widget.value]\n",
    "c_Cr_raw = mdata[c_Cr_raw_widget.value]\n",
    "c_Cho_raw = mdata[c_Cho_raw_widget.value]\n",
    "c_Myo_raw = mdata[c_Myo_raw_widget.value]\n",
    "c_Glu_raw = mdata[c_Glu_raw_widget.value]\n",
    "c_Glx_raw = mdata[c_Glx_raw_widget.value]\n",
    "TE = TE_widget.value\n",
    "TR = TR_widget.value"
   ]
  },
  {
   "cell_type": "markdown",
   "metadata": {},
   "source": [
    "### Literature Constants"
   ]
  },
  {
   "cell_type": "code",
   "execution_count": 7,
   "metadata": {},
   "outputs": [],
   "source": [
    "# Relative densities - water content of the brain (ratio of signals from tissue water / total brain)\n",
    "d_GM = 0.78 #From Ernst et al. 1993 (JMR)\n",
    "d_WM = 0.65\n",
    "d_CSF = 0.97\n",
    "\n",
    "T2_H2O_GM = 0.110 #From Wansapura et al. 1999 (JMRI)\n",
    "T1_H2O_GM = 1.331\n",
    "T2_H2O_WM = 0.0792\n",
    "T1_H2O_WM = 0.832\n",
    "T2_H2O_CSF = 0.503 #From Lu et al. 2005 (JMRI)\n",
    "T1_H2O_CSF = 3.817 #Piechnik 2009 (MRM)\n",
    "\n",
    "T2_NAA_GM = 0.25 #Averages from Mlynarik et al. 2001 & Posse et al. 2007\n",
    "T1_NAA_GM = 1.47\n",
    "T2_NAA_WM = 0.30\n",
    "T1_NAA_WM = 1.46\n",
    "\n",
    "T2_Cr_GM = 0.16\n",
    "T1_Cr_GM = 1.40\n",
    "T2_Cr_WM = 0.17\n",
    "T1_Cr_WM = 1.32\n",
    "\n",
    "T2_Cho_GM = 0.21\n",
    "T1_Cho_GM = 1.28\n",
    "T2_Cho_WM = 0.20\n",
    "T1_Cho_WM = 1.15\n",
    "\n",
    "T2_Glu_GM = 0.14\n",
    "T1_Glu_GM = 1.27\n",
    "T2_Glu_WM = 0.14\n",
    "T1_Glu_WM = 1.17\n",
    "\n",
    "T2_Glx_GM = 0.20\n",
    "T1_Glx_GM = 1.25\n",
    "T2_Glx_WM = 0.20\n",
    "T1_Glx_WM = 1.21\n",
    "\n",
    "T2_Myo_GM = 0.22\n",
    "T1_Myo_GM = 1.18\n",
    "T2_Myo_WM = 0.22\n",
    "T1_Myo_WM = 0.99"
   ]
  },
  {
   "cell_type": "markdown",
   "metadata": {},
   "source": [
    "### Alpha values\n",
    "<u>**Alpha values**</u> are the ratios of metabolite concentrations in WM to metabolite concentrations GM\n",
    "\n",
    "Metabolite| Recommended | Interpretation               |Pooled | Anterior| Posterior|\n",
    "----------|-------------|------------------------------|-------|---------|----------|\n",
    "tNAA      | 0.8         | 1.25x more tNAA in GM than WM|0.7    | 0.6     | 0.8      |\n",
    "tCr       | 0.7         | 1.4x more tCr in GM than WM  |0.6    | 0.5     | 0.7      |\n",
    "tCho      | 1           | Equal tCho in GM and WM      |1      | 0.7     | 1.1      |\n",
    "Myo       | 0.7         | 1.4x more Myo in GM than WM  |0.6    | 0.5     | 0.7      |\n",
    "Glu       | 0.5         | 2x more Glu in GM than WM    |0.5    | 0.4     | 0.6      |\n",
    "Glx       | 0.5         | 2x more Glx in GM than WM    |0.4    | 0.3     | 0.5      |\n",
    "\n",
    "**\"Recommended\"** alpha values were calculated and validated by Leech et al (2024).<br>\n",
    "**\"Pooled\"** alpha values were calucaled from 6 voxels (from 27 subjects) located throughout the brain. <br>\n",
    "**\"Anterior\"** alpha values were calucaled from 3 voxels (from 27 subjects)located in the anterior of the brain.<br> \n",
    "**\"Posterior\"** alpha values were calucaled from 3 voxels (from 27 subjects)located in the posterior of the brain <br>"
   ]
  },
  {
   "cell_type": "code",
   "execution_count": 8,
   "metadata": {},
   "outputs": [],
   "source": [
    "#Concentration ratios of neurochemcicals in pure WM / pure GM (cWM/cGM) - referred to as \"alpha\" in the equations below\n",
    "#These values were determined by Leech et al (2024)\n",
    "alpha_NAA = 0.8\n",
    "alpha_Cr = 0.7\n",
    "alpha_Cho = 1.0\n",
    "alpha_Glu = 0.5\n",
    "alpha_Glx = 0.5\n",
    "alpha_Myo = 0.7"
   ]
  },
  {
   "cell_type": "markdown",
   "metadata": {},
   "source": [
    "## MOLAL\n",
    "##### Fractions of Water\n",
    "Fraction of water in the tissue compartment of interest relative to total water in the voxel\n",
    "\n",
    "$$\\color{green}{f_{GM}} = \\displaystyle\\frac {f_{GM_{vol}}×d_{GM}}{f_{GM_{vol}}×d_{GM}+f_{WM_{vol}}×d_{WM}+f_{CSF_{vol}}×d_{CSF}}$$\n",
    "\n",
    "$$\\color{green}{f_{WM}} = \\displaystyle\\frac {f_{WM_{vol}}×d_{WM}}{f_{GM_{vol}}×d_{GM}+f_{WM_{vol}}×d_{WM}+f_{CSF_{vol}}×d_{CSF}}$$\n",
    "\n",
    "$$\\color{green}{f_{CSF}} = \\displaystyle\\frac {f_{CSF_{vol}}×d_{CSF}}{f_{GM_{vol}}×d_{GM}+f_{WM_{vol}}×d_{WM}+f_{CSF_{vol}}×d_{CSF}}$$"
   ]
  },
  {
   "cell_type": "code",
   "execution_count": 9,
   "metadata": {},
   "outputs": [],
   "source": [
    "def calculate_water_fractions(f_GM_vol, f_WM_vol, f_CSF_vol, d_GM, d_WM, d_CSF): \n",
    "    f_GM = (f_GM_vol*d_GM)/((f_GM_vol*d_GM)+(f_WM_vol*d_WM)+(f_CSF_vol*d_CSF))\n",
    "    f_WM = (f_WM_vol*d_WM)/((f_GM_vol*d_GM)+(f_WM_vol*d_WM)+(f_CSF_vol*d_CSF))\n",
    "    f_CSF = (f_CSF_vol*d_CSF)/((f_GM_vol*d_GM)+(f_WM_vol*d_WM)+(f_CSF_vol*d_CSF))\n",
    "    return f_GM, f_WM, f_CSF"
   ]
  },
  {
   "cell_type": "markdown",
   "metadata": {},
   "source": [
    "##### Water Relaxation Scaling Factors\n",
    "\n",
    "Water signal is scaled by the appropriate T1‐ and T2‐weighted relaxation factors because the signals are not acquired under fully relaxed conditions\n",
    "\n",
    "$\\color{grey}{\\text{*If initial pulse angle is 90° in a double spin echo or stimulated echo with equal echo spacing}}$\n",
    "$\\color{grey}{\\text{*Assumes relaxation times associated with the dominant peak characterize entire signal even though different protons on a metabolite}}$ \n",
    "$\\color{grey}{\\text{can have different relaxation times}}$\n",
    "\n",
    "$$\\color{blue}{R_{H_{2}O_{GM}}} = e^{−TE/T2_{H_{2}O_{GM}}}(1 – e^{−TR/T1_{H_{2}O_{GM}}}) $$\n",
    "$$\\color{blue}{R_{H_{2}O_{WM}}} = e^{−TE/T2_{H_{2}O_{WM}}}(1 – e^{−TR/T1_{H_{2}O_{WM}}}) $$\n",
    "$$\\color{blue}{R_{H_{2}O_{CSF}}} = e^{−TE/T2_{H_{2}O_{CSF}}}(1 – e^{−TR/T1_{H_{2}O_{CSF}}}) $$"
   ]
  },
  {
   "cell_type": "code",
   "execution_count": 10,
   "metadata": {},
   "outputs": [],
   "source": [
    "def calculate_water_relaxation(TE, TR, T2_H2O_GM, T1_H2O_GM, T2_H2O_WM, T1_H2O_WM, T2_H2O_CSF, T1_H2O_CSF):\n",
    "    R_H2O_GM = (math.exp(-TE/T2_H2O_GM))*(1-math.exp(-TR/T1_H2O_GM))\n",
    "    R_H2O_WM = (math.exp(-TE/T2_H2O_WM))*(1-math.exp(-TR/T1_H2O_WM))\n",
    "    R_H2O_CSF = (math.exp(-TE/T2_H2O_CSF))*(1-math.exp(-TR/T1_H2O_CSF))\n",
    "    return R_H2O_GM, R_H2O_WM, R_H2O_CSF"
   ]
  },
  {
   "cell_type": "markdown",
   "metadata": {},
   "source": [
    "##### Metabolite Relaxation Signal Factor\n",
    "GM and WM metabolite signal fractions are weighted by different relaxation factors\n",
    "\n",
    "$$\\color{orange}{R_{M}} =\\displaystyle\\frac {f_{GM_{vol}}×d_{GM}×\\color{purple}{R_{M_{GM}}} + f_{WM_{vol}}×d_{WM}×\\alpha×\\color{purple}{R_{M_{WM}}}} {f_{GM_{vol}}×d_{GM} + f_{WM_{vol}}×d_{WM}×\\alpha}$$ \n",
    "\n",
    "$$\\color{purple}{R_{M_{GM}}} = e^{−TE/T2_{M_{GM}}}(1 – e^{−TR/T1_{M_{GM}}}) $$\n",
    "$$\\color{purple}{R_{M_{WM}}} = e^{−TE/T2_{M_{WM}}}(1 – e^{−TR/T1_{M_{WM}}}) $$"
   ]
  },
  {
   "cell_type": "code",
   "execution_count": 11,
   "metadata": {},
   "outputs": [],
   "source": [
    "def calculate_metabolite_relaxation(f_GM_vol, f_WM_vol, d_GM, d_WM, alpha_M):\n",
    "    R_M_GM = (math.exp(-TE/T2_M_GM))*(1-math.exp(-TR/T1_M_GM))\n",
    "    R_M_WM = (math.exp(-TE/T2_M_GM))*(1-math.exp(-TR/T1_M_GM))\n",
    "    R_M = ((f_GM_vol*d_GM*R_M_GM) + (f_WM_vol*d_WM*alpha_M*R_M_WM)) / ((f_GM_vol*d_GM)+(f_WM_vol*d_WM*alpha_M))\n",
    "    return R_M"
   ]
  },
  {
   "cell_type": "markdown",
   "metadata": {},
   "source": [
    "#### Original Gasparovic et al. 2018 Molal Equation (w/ CSF Correction)\n",
    "$$[M]_{molal} =\\displaystyle\\frac {\\color{red}{S_{M_{obs}}} (f_{GM}×R_{H_{2}O_{GM}} + f_{WM}×R_{H_{2}O_{WM}} + f_{CSF}×R_{H_{2}O_{CSF}})}{\\color{red}{S_{H_{2}O_{obs}}}×(1-f_{CSF})×R_{M}} × \\displaystyle\\color{red}{\\Bigg(\\frac{2}{H_{M}}\\Bigg)} × \\displaystyle\\color{red}{[H_{2}O]_{molal}} $$ <br>\n",
    "\n",
    "Where $c_{raw}$ is the raw output from LCModel:\n",
    "\n",
    "$${c_{raw}} = \\color{red}{\\displaystyle\\Bigg(\\frac{S_{M_{obs}}}{S_{H_{2}O_{obs}}}\\Bigg) × \\displaystyle\\Bigg(\\frac{2}{H_{M}}\\Bigg) × \\displaystyle[H_{2}O]_{molal}}$$\n",
    "\n",
    "$\\color{grey}{\\text{*Everything except H2O_molal are ratios therefore the units of c_raw are proportional to that of H2O_molar = 55510 mmol/kg}}$\n",
    "\n",
    "Therefore the Gasparovic, 2018 equation can be simplified as:\n",
    "\n",
    "$$[M]_{molal} =\\displaystyle\\frac {\\color{red}{c_{raw}} (\\color{green}{f_{GM}}×\\color{blue}{R_{H_{2}O_{GM}}} + \\color{green}{f_{WM}}×\\color{blue}{R_{H_{2}O_{WM}}} + \\color{green}{f_{CSF}}×\\color{blue}{R_{H_{2}O_{CSF}}})}{(1-\\color{green}{f_{CSF}})×\\color{orange}{R_{M}}} $$ \n",
    "\n",
    "$\\color{grey}{\\text{*This equation uses CSF correction rather than tissue correction}}$ <br>\n",
    "$\\color{grey}{\\text{*Units of [M]_molal = mmol/kg}}$"
   ]
  },
  {
   "cell_type": "code",
   "execution_count": 12,
   "metadata": {},
   "outputs": [],
   "source": [
    "def calculate_M_molal_CSFcorr(c_M_raw, f_GM, R_H2O_GM, f_WM, R_H2O_WM, f_CSF, R_H2O_CSF, R_M):\n",
    "    M_molal_CSFcorr = (c_M_raw*(f_GM*R_H2O_GM+f_WM*R_H2O_WM+f_CSF*R_H2O_CSF))/((1-f_CSF)*R_M)\n",
    "    return M_molal_CSFcorr"
   ]
  },
  {
   "cell_type": "markdown",
   "metadata": {},
   "source": [
    "#### Proposed Molal Equation (w/ Tissue Correction) - Normalized to an 100% GM voxel\n",
    "$$[M]_{molal} =\\displaystyle\\frac {\\color{red}{c_{raw}} (\\color{green}{f_{GM}}×\\color{blue}{R_{H_{2}O_{GM}}} + \\color{green}{f_{WM}}×\\color{blue}{R_{H_{2}O_{WM}}} + \\color{green}{f_{CSF}}×\\color{blue}{R_{H_{2}O_{CSF}}})}{(\\color{green}{f_{GM}}+\\alpha\\color{green}{f_{WM}})×\\color{orange}{R_{M}}} $$ "
   ]
  },
  {
   "cell_type": "code",
   "execution_count": 13,
   "metadata": {},
   "outputs": [],
   "source": [
    "def calculate_M_molal_tisscorr(c_M_raw, f_GM, R_H2O_GM, f_WM, R_H2O_WM, f_CSF, R_H2O_CSF, R_M, alpha_M):\n",
    "    M_molal_tisscorr = (c_M_raw*(f_GM*R_H2O_GM+f_WM*R_H2O_WM+f_CSF*R_H2O_CSF))/((f_GM+alpha_M*f_WM)*R_M)\n",
    "    return M_molal_tisscorr"
   ]
  },
  {
   "cell_type": "markdown",
   "metadata": {},
   "source": [
    "#### Proposed Molal Equation (w/ Tissue Correction) - Normalized to a 50% GM, 50% WM voxel\n",
    "$$[M]_{molal} =\\displaystyle\\frac {\\color{red}{c_{raw}} (\\color{green}{f_{GM}}×\\color{blue}{R_{H_{2}O_{GM}}} + \\color{green}{f_{WM}}×\\color{blue}{R_{H_{2}O_{WM}}} + \\color{green}{f_{CSF}}×\\color{blue}{R_{H_{2}O_{CSF}}})}{(\\color{green}{f_{GM}}+\\alpha\\color{green}{f_{WM}})×\\color{orange}{R_{M}}}×\\displaystyle\\frac{\\color{red}{0.5+\\alpha0.5}}{\\color{red}{0.5+0.5}} $$ "
   ]
  },
  {
   "cell_type": "code",
   "execution_count": 14,
   "metadata": {},
   "outputs": [],
   "source": [
    "def calculate_M_molal_norm(c_M_raw, f_GM, R_H2O_GM, f_WM, R_H2O_WM, f_CSF, R_H2O_CSF, R_M, alpha_M):\n",
    "    M_molal_norm = (c_M_raw*(f_GM*R_H2O_GM+f_WM*R_H2O_WM+f_CSF*R_H2O_CSF))/((f_GM+alpha_M*f_WM)*R_M)*((0.5+(alpha_M*0.5))/(0.5+0.5))\n",
    "    return M_molal_norm"
   ]
  },
  {
   "cell_type": "markdown",
   "metadata": {},
   "source": [
    "## MOLAR\n",
    "#### Original Gasparovic et al. 2018 Molar Equation (w/ CSF Correction)\n",
    "\n",
    "$$[M]_{molar} =\\displaystyle\\frac {\\color{red}{S_{M_{obs}}} (f_{GM_{vol}}×d_{GM} ×R_{H_{2}O_{GM}} + f_{WM_{vol}}×d_{WM} ×R_{H_{2}O_{WM}} + f_{CSF_{vol}}× d_{CSF} ×R_{H_{2}O_{CSF}})}{\\color{red}{S_{H_{2}O_{obs}}}×(1-f_{CSF_{vol}})×R_{M}} × \\displaystyle\\color{red}{\\Bigg(\\frac{2}{H_{M}}\\Bigg)} × \\displaystyle\\color{red}{[H_{2}O]_{molar}} $$ <br>\n",
    "\n",
    "Where $c_{raw}$ is the raw output from LCModel:\n",
    "\n",
    "$${c_{raw}} = \\color{red}{\\displaystyle\\Bigg(\\frac{S_{M_{obs}}}{S_{H_{2}O_{obs}}}\\Bigg) × \\displaystyle\\Bigg(\\frac{2}{H_{M}}\\Bigg) × \\displaystyle[H_{2}O]_{molar}}$$\n",
    "\n",
    "$\\color{grey}{\\text{*Everything except H2O_molar are ratios therefore the units of c_raw are proportional to that of H2O_molar = 55510 mmol/L}}$\n",
    "\n",
    "Therefore the Gasparovic, 2018 equation can be simplified as:\n",
    "\n",
    "$$[M]_{molar} =\\displaystyle\\frac {\\color{red}{c_{raw}} (\\color{green}{f_{GM_{vol}}}×d_{GM}×\\color{blue}{R_{H_{2}O_{GM}}} + \\color{green}{f_{WM_{vol}}}×d_{WM}×\\color{blue}{R_{H_{2}O_{WM}}} + \\color{green}{f_{CSF_{vol}}}×d_{CSF}×\\color{blue}{R_{H_{2}O_{CSF}}})}{(1-\\color{green}{f_{CSF_{vol}}})×\\color{orange}{R_{M}}} $$ \n",
    "\n",
    "$\\color{grey}{\\text{*This equation uses CSF correction rather than tissue correction}}$ <br>\n",
    "$\\color{grey}{\\text{*Units of [M]_molar = mmol/L}}$"
   ]
  },
  {
   "cell_type": "code",
   "execution_count": 15,
   "metadata": {},
   "outputs": [],
   "source": [
    "def calculate_M_molar_CSFcorr(c_M_raw, f_GM_vol, d_GM, R_H2O_GM, f_WM_vol, d_WM, R_H2O_WM, f_CSF_vol, d_CSF, R_H2O_CSF, R_M):\n",
    "    M_molar_CSFcorr = (c_M_raw*(f_GM_vol*d_GM*R_H2O_GM+f_WM_vol*d_WM*R_H2O_WM+f_CSF_vol*d_CSF*R_H2O_CSF))/((1-f_CSF_vol)*R_M)\n",
    "    return M_molar_CSFcorr"
   ]
  },
  {
   "cell_type": "markdown",
   "metadata": {},
   "source": [
    "#### Proposed Molar Equation (w/ Tissue Correction) - Normalized to an 100% GM voxel\n",
    "\n",
    "$$[M]_{molar} =\\displaystyle\\frac {\\color{red}{c_{raw}} (\\color{green}{f_{GM_{vol}}}×d_{GM}×\\color{blue}{R_{H_{2}O_{GM}}} + \\color{green}{f_{WM_{vol}}}×d_{WM}×\\color{blue}{R_{H_{2}O_{WM}}} + \\color{green}{f_{CSF_{vol}}}×d_{CSF}×\\color{blue}{R_{H_{2}O_{CSF}}})}{(\\color{green}{f_{GM_{vol}}}+\\alpha\\color{green}{f_{WM_{vol}}})×\\color{orange}{R_{M}}} $$"
   ]
  },
  {
   "cell_type": "code",
   "execution_count": 16,
   "metadata": {},
   "outputs": [],
   "source": [
    "def calculate_M_molar_tisscorr(c_M_raw, f_GM_vol, d_GM, R_H2O_GM, f_WM_vol, d_WM, R_H2O_WM, f_CSF_vol, d_CSF, R_H2O_CSF, R_M, alpha_M):\n",
    "    M_molar_tisscorr = (c_M_raw*(f_GM_vol*d_GM*R_H2O_GM+f_WM_vol*d_WM*R_H2O_WM+f_CSF_vol*d_CSF*R_H2O_CSF))/((f_GM_vol+alpha_M*f_WM_vol)*R_M)\n",
    "    return M_molar_tisscorr"
   ]
  },
  {
   "cell_type": "markdown",
   "metadata": {},
   "source": [
    "#### Proposed Molar Equation (w/ Tissue Correction) - Normalized to a 50% GM, 50% WM voxel\n",
    "\n",
    "$$[M]_{molar} =\\displaystyle\\frac {\\color{red}{c_{raw}} (\\color{green}{f_{GM_{vol}}}×d_{GM}×\\color{blue}{R_{H_{2}O_{GM}}} + \\color{green}{f_{WM_{vol}}}×d_{WM}×\\color{blue}{R_{H_{2}O_{WM}}} + \\color{green}{f_{CSF_{vol}}}×d_{CSF}×\\color{blue}{R_{H_{2}O_{CSF}}})}{(\\color{green}{f_{GM_{vol}}}+\\alpha\\color{green}{f_{WM_{vol}}})×\\color{orange}{R_{M}}} ×\\displaystyle\\frac{\\color{red}{0.5+\\alpha0.5}}{\\color{red}{0.5+0.5}}$$ "
   ]
  },
  {
   "cell_type": "code",
   "execution_count": 17,
   "metadata": {},
   "outputs": [],
   "source": [
    "def calculate_M_molar_norm(c_M_raw, f_GM_vol, d_GM, R_H2O_GM, f_WM_vol, d_WM, R_H2O_WM, f_CSF_vol, d_CSF, R_H2O_CSF, R_M, alpha_M):\n",
    "    M_molar_norm = (c_M_raw*(f_GM_vol*d_GM*R_H2O_GM+f_WM_vol*d_WM*R_H2O_WM+f_CSF_vol*d_CSF*R_H2O_CSF))/((f_GM_vol+alpha_M*f_WM_vol)*R_M)*((0.5+(alpha_M*0.5))/(0.5+0.5))\n",
    "    return M_molar_norm"
   ]
  },
  {
   "cell_type": "code",
   "execution_count": 18,
   "metadata": {},
   "outputs": [],
   "source": [
    "def save_to_excel(mdata, metab, f_GM, f_WM, f_CSF, M_molal_tisscorr, M_molar_tisscorr, M_molal_norm, M_molar_norm, M_molal_CSFcorr, M_molar_CSFcorr, ExcelSheet):\n",
    "    \n",
    "    #Set up columns\n",
    "    ColName1 = str(metab) + '_MolalAlpha'\n",
    "    ColName2 = str(metab) + '_MolarAlpha'\n",
    "    ColName3 = str(metab) + '_MolalNorm'\n",
    "    ColName4 = str(metab) + '_MolarNorm' \n",
    "    ColName5 = str(metab) + '_MolalCSF' \n",
    "    ColName6 = str(metab) + '_MolarCSF' \n",
    "    mdata[ColName1] = M_molal_tisscorr\n",
    "    mdata[ColName2] = M_molar_tisscorr\n",
    "    mdata[ColName3] = M_molal_norm\n",
    "    mdata[ColName4] = M_molar_norm\n",
    "    mdata[ColName5] = M_molal_CSFcorr\n",
    "    mdata[ColName6] = M_molar_CSFcorr\n",
    "\n",
    "    # Save to Excel in a new sheet\n",
    "    with pd.ExcelWriter(ExcelSheet, engine='openpyxl', mode='a') as writer:\n",
    "        mdata.to_excel(writer, sheet_name=str(metab)+'_TissueCorr', index=False)\n",
    "    \n",
    "    return mdata"
   ]
  },
  {
   "cell_type": "markdown",
   "metadata": {},
   "source": [
    "### Main Metabolite Loop (Function Integration)"
   ]
  },
  {
   "cell_type": "code",
   "execution_count": 19,
   "metadata": {},
   "outputs": [],
   "source": [
    "# List of metabolites\n",
    "metabs_list = ['NAA', 'Cr', 'Cho', 'Glu', 'Glx', 'Myo']\n",
    "\n",
    "# Initialize an empty list to store DataFrames for each metabolite\n",
    "metab_dataframes = []\n",
    "\n",
    "# Loop over metabolites\n",
    "for metab in metabs_list:\n",
    "\n",
    "    # Map variables based on metabolite\n",
    "    if metab == 'NAA':\n",
    "        alpha_M = alpha_NAA\n",
    "        c_M_raw = c_NAA_raw\n",
    "        T2_M_GM = T2_NAA_GM\n",
    "        T1_M_GM = T1_NAA_GM\n",
    "        T2_M_WM = T2_NAA_WM\n",
    "        T1_M_WM = T1_NAA_WM\n",
    "\n",
    "    elif metab == 'Cr':\n",
    "        alpha_M = alpha_Cr\n",
    "        c_M_raw = c_Cr_raw\n",
    "        T2_M_GM = T2_Cr_GM\n",
    "        T1_M_GM = T1_Cr_GM\n",
    "        T2_M_WM = T2_Cr_WM\n",
    "        T1_M_WM = T1_Cr_WM\n",
    "    \n",
    "    elif metab == 'Cho':\n",
    "        alpha_M = alpha_Cho\n",
    "        c_M_raw = c_Cho_raw\n",
    "        T2_M_GM = T2_Cho_GM\n",
    "        T1_M_GM = T1_Cho_GM\n",
    "        T2_M_WM = T2_Cho_WM\n",
    "        T1_M_WM = T1_Cho_WM\n",
    "    \n",
    "    elif metab == 'Glu':\n",
    "        alpha_M = alpha_Glu\n",
    "        c_M_raw = c_Glu_raw\n",
    "        T2_M_GM = T2_Glu_GM\n",
    "        T1_M_GM = T1_Glu_GM\n",
    "        T2_M_WM = T2_Glu_WM\n",
    "        T1_M_WM = T1_Glu_WM\n",
    "    \n",
    "    elif metab == 'Glx':\n",
    "        alpha_M = alpha_Glx\n",
    "        c_M_raw = c_Glx_raw\n",
    "        T2_M_GM = T2_Glx_GM\n",
    "        T1_M_GM = T1_Glx_GM\n",
    "        T2_M_WM = T2_Glx_WM\n",
    "        T1_M_WM = T1_Glx_WM\n",
    "    \n",
    "    elif metab == 'Myo':\n",
    "        alpha_M = alpha_Myo\n",
    "        c_M_raw = c_Myo_raw\n",
    "        T2_M_GM = T2_Myo_GM\n",
    "        T1_M_GM = T1_Myo_GM\n",
    "        T2_M_WM = T2_Myo_WM\n",
    "        T1_M_WM = T1_Myo_WM\n",
    "    \n",
    "    else:\n",
    "        print(\"Data not available. Try a different spelling or metabolite.\")\n",
    "        continue\n",
    "        \n",
    "    \n",
    "    # Calls the function to process data with mapped variables\n",
    "    f_GM, f_WM, f_CSF = calculate_water_fractions(f_GM_vol, f_WM_vol, f_CSF_vol, d_GM, d_WM, d_CSF)\n",
    "    R_H2O_GM, R_H2O_WM, R_H2O_CSF = calculate_water_relaxation(TE, TR, T2_H2O_GM, T1_H2O_GM, T2_H2O_WM, T1_H2O_WM, T2_H2O_CSF, T1_H2O_CSF)\n",
    "    R_M = calculate_metabolite_relaxation(f_GM_vol, f_WM_vol, d_GM, d_WM, alpha_M)\n",
    "    M_molal_CSFcorr = calculate_M_molal_CSFcorr(c_M_raw, f_GM, R_H2O_GM, f_WM, R_H2O_WM, f_CSF, R_H2O_CSF, R_M)\n",
    "    M_molal_tisscorr = calculate_M_molal_tisscorr(c_M_raw, f_GM, R_H2O_GM, f_WM, R_H2O_WM, f_CSF, R_H2O_CSF, R_M, alpha_M)\n",
    "    M_molal_norm = calculate_M_molal_norm(c_M_raw, f_GM, R_H2O_GM, f_WM, R_H2O_WM, f_CSF, R_H2O_CSF, R_M, alpha_M)\n",
    "    M_molar_CSFcorr = calculate_M_molar_CSFcorr(c_M_raw, f_GM_vol, d_GM, R_H2O_GM, f_WM_vol, d_WM, R_H2O_WM, f_CSF_vol, d_CSF, R_H2O_CSF, R_M)\n",
    "    M_molar_tisscorr = calculate_M_molar_tisscorr(c_M_raw, f_GM_vol, d_GM, R_H2O_GM, f_WM_vol, d_WM, R_H2O_WM, f_CSF_vol, d_CSF, R_H2O_CSF, R_M, alpha_M)\n",
    "    M_molar_norm = calculate_M_molar_norm(c_M_raw, f_GM_vol, d_GM, R_H2O_GM, f_WM_vol, d_WM, R_H2O_WM, f_CSF_vol, d_CSF, R_H2O_CSF, R_M, alpha_M)\n",
    "    \n",
    "    # Save to Excel \n",
    "    all_data = save_to_excel(mdata, metab, f_GM, f_WM, f_CSF, M_molal_tisscorr, M_molar_tisscorr, M_molal_norm, M_molar_norm, M_molal_CSFcorr, M_molar_CSFcorr, ExcelSheet)    \n",
    "        \n",
    "    #Appends data frame for current metabolite to the list\n",
    "    metab_dataframes.append(all_data)\n",
    "    \n",
    "#Concatenates all data frames into a single data frame\n",
    "all_data_concatenated = pd.concat(metab_dataframes, ignore_index=True)"
   ]
  },
  {
   "cell_type": "markdown",
   "metadata": {},
   "source": [
    "## Plotting"
   ]
  },
  {
   "cell_type": "code",
   "execution_count": 20,
   "metadata": {},
   "outputs": [
    {
     "ename": "MissingDataError",
     "evalue": "exog contains inf or nans",
     "output_type": "error",
     "traceback": [
      "\u001b[0;31m---------------------------------------------------------------------------\u001b[0m",
      "\u001b[0;31mMissingDataError\u001b[0m                          Traceback (most recent call last)",
      "\u001b[0;32m<ipython-input-20-d7175b9d73b9>\u001b[0m in \u001b[0;36m<module>\u001b[0;34m\u001b[0m\n\u001b[1;32m     13\u001b[0m \u001b[0;31m# Regression line for NAA_MolalCSF vs GM_fraction\u001b[0m\u001b[0;34m\u001b[0m\u001b[0;34m\u001b[0m\u001b[0;34m\u001b[0m\u001b[0m\n\u001b[1;32m     14\u001b[0m \u001b[0mX\u001b[0m \u001b[0;34m=\u001b[0m \u001b[0msm\u001b[0m\u001b[0;34m.\u001b[0m\u001b[0madd_constant\u001b[0m\u001b[0;34m(\u001b[0m\u001b[0mall_data\u001b[0m\u001b[0;34m[\u001b[0m\u001b[0;34m'GM_fraction'\u001b[0m\u001b[0;34m]\u001b[0m\u001b[0;34m)\u001b[0m\u001b[0;34m\u001b[0m\u001b[0;34m\u001b[0m\u001b[0m\n\u001b[0;32m---> 15\u001b[0;31m \u001b[0mmodel_NAA_MolalCSF\u001b[0m \u001b[0;34m=\u001b[0m \u001b[0msm\u001b[0m\u001b[0;34m.\u001b[0m\u001b[0mOLS\u001b[0m\u001b[0;34m(\u001b[0m\u001b[0mall_data\u001b[0m\u001b[0;34m[\u001b[0m\u001b[0;34m'NAA_MolalCSF'\u001b[0m\u001b[0;34m]\u001b[0m\u001b[0;34m,\u001b[0m \u001b[0mX\u001b[0m\u001b[0;34m)\u001b[0m\u001b[0;34m.\u001b[0m\u001b[0mfit\u001b[0m\u001b[0;34m(\u001b[0m\u001b[0;34m)\u001b[0m\u001b[0;34m\u001b[0m\u001b[0;34m\u001b[0m\u001b[0m\n\u001b[0m\u001b[1;32m     16\u001b[0m \u001b[0msns\u001b[0m\u001b[0;34m.\u001b[0m\u001b[0mregplot\u001b[0m\u001b[0;34m(\u001b[0m\u001b[0mdata\u001b[0m\u001b[0;34m=\u001b[0m\u001b[0mall_data\u001b[0m\u001b[0;34m,\u001b[0m \u001b[0mx\u001b[0m\u001b[0;34m=\u001b[0m\u001b[0;34m'GM_fraction'\u001b[0m\u001b[0;34m,\u001b[0m \u001b[0my\u001b[0m\u001b[0;34m=\u001b[0m\u001b[0;34m'NAA_MolalCSF'\u001b[0m\u001b[0;34m,\u001b[0m \u001b[0mscatter\u001b[0m\u001b[0;34m=\u001b[0m\u001b[0;32mFalse\u001b[0m\u001b[0;34m,\u001b[0m \u001b[0mlabel\u001b[0m\u001b[0;34m=\u001b[0m\u001b[0;34mf'Regression line for CSF correction\\nR-squared: {model_NAA_MolalCSF.rsquared:.2f}, p-value: {model_NAA_MolalCSF.pvalues[1]:.4f}\\nEquation: y = {model_NAA_MolalCSF.params[0]:.2f} + {model_NAA_MolalCSF.params[1]:.2f}x'\u001b[0m\u001b[0;34m)\u001b[0m\u001b[0;34m\u001b[0m\u001b[0;34m\u001b[0m\u001b[0m\n\u001b[1;32m     17\u001b[0m \u001b[0;34m\u001b[0m\u001b[0m\n",
      "\u001b[0;32m/opt/anaconda3/lib/python3.8/site-packages/statsmodels/regression/linear_model.py\u001b[0m in \u001b[0;36m__init__\u001b[0;34m(self, endog, exog, missing, hasconst, **kwargs)\u001b[0m\n\u001b[1;32m    870\u001b[0m     def __init__(self, endog, exog=None, missing='none', hasconst=None,\n\u001b[1;32m    871\u001b[0m                  **kwargs):\n\u001b[0;32m--> 872\u001b[0;31m         super(OLS, self).__init__(endog, exog, missing=missing,\n\u001b[0m\u001b[1;32m    873\u001b[0m                                   hasconst=hasconst, **kwargs)\n\u001b[1;32m    874\u001b[0m         \u001b[0;32mif\u001b[0m \u001b[0;34m\"weights\"\u001b[0m \u001b[0;32min\u001b[0m \u001b[0mself\u001b[0m\u001b[0;34m.\u001b[0m\u001b[0m_init_keys\u001b[0m\u001b[0;34m:\u001b[0m\u001b[0;34m\u001b[0m\u001b[0;34m\u001b[0m\u001b[0m\n",
      "\u001b[0;32m/opt/anaconda3/lib/python3.8/site-packages/statsmodels/regression/linear_model.py\u001b[0m in \u001b[0;36m__init__\u001b[0;34m(self, endog, exog, weights, missing, hasconst, **kwargs)\u001b[0m\n\u001b[1;32m    701\u001b[0m         \u001b[0;32melse\u001b[0m\u001b[0;34m:\u001b[0m\u001b[0;34m\u001b[0m\u001b[0;34m\u001b[0m\u001b[0m\n\u001b[1;32m    702\u001b[0m             \u001b[0mweights\u001b[0m \u001b[0;34m=\u001b[0m \u001b[0mweights\u001b[0m\u001b[0;34m.\u001b[0m\u001b[0msqueeze\u001b[0m\u001b[0;34m(\u001b[0m\u001b[0;34m)\u001b[0m\u001b[0;34m\u001b[0m\u001b[0;34m\u001b[0m\u001b[0m\n\u001b[0;32m--> 703\u001b[0;31m         super(WLS, self).__init__(endog, exog, missing=missing,\n\u001b[0m\u001b[1;32m    704\u001b[0m                                   weights=weights, hasconst=hasconst, **kwargs)\n\u001b[1;32m    705\u001b[0m         \u001b[0mnobs\u001b[0m \u001b[0;34m=\u001b[0m \u001b[0mself\u001b[0m\u001b[0;34m.\u001b[0m\u001b[0mexog\u001b[0m\u001b[0;34m.\u001b[0m\u001b[0mshape\u001b[0m\u001b[0;34m[\u001b[0m\u001b[0;36m0\u001b[0m\u001b[0;34m]\u001b[0m\u001b[0;34m\u001b[0m\u001b[0;34m\u001b[0m\u001b[0m\n",
      "\u001b[0;32m/opt/anaconda3/lib/python3.8/site-packages/statsmodels/regression/linear_model.py\u001b[0m in \u001b[0;36m__init__\u001b[0;34m(self, endog, exog, **kwargs)\u001b[0m\n\u001b[1;32m    188\u001b[0m     \"\"\"\n\u001b[1;32m    189\u001b[0m     \u001b[0;32mdef\u001b[0m \u001b[0m__init__\u001b[0m\u001b[0;34m(\u001b[0m\u001b[0mself\u001b[0m\u001b[0;34m,\u001b[0m \u001b[0mendog\u001b[0m\u001b[0;34m,\u001b[0m \u001b[0mexog\u001b[0m\u001b[0;34m,\u001b[0m \u001b[0;34m**\u001b[0m\u001b[0mkwargs\u001b[0m\u001b[0;34m)\u001b[0m\u001b[0;34m:\u001b[0m\u001b[0;34m\u001b[0m\u001b[0;34m\u001b[0m\u001b[0m\n\u001b[0;32m--> 190\u001b[0;31m         \u001b[0msuper\u001b[0m\u001b[0;34m(\u001b[0m\u001b[0mRegressionModel\u001b[0m\u001b[0;34m,\u001b[0m \u001b[0mself\u001b[0m\u001b[0;34m)\u001b[0m\u001b[0;34m.\u001b[0m\u001b[0m__init__\u001b[0m\u001b[0;34m(\u001b[0m\u001b[0mendog\u001b[0m\u001b[0;34m,\u001b[0m \u001b[0mexog\u001b[0m\u001b[0;34m,\u001b[0m \u001b[0;34m**\u001b[0m\u001b[0mkwargs\u001b[0m\u001b[0;34m)\u001b[0m\u001b[0;34m\u001b[0m\u001b[0;34m\u001b[0m\u001b[0m\n\u001b[0m\u001b[1;32m    191\u001b[0m         \u001b[0mself\u001b[0m\u001b[0;34m.\u001b[0m\u001b[0m_data_attr\u001b[0m\u001b[0;34m.\u001b[0m\u001b[0mextend\u001b[0m\u001b[0;34m(\u001b[0m\u001b[0;34m[\u001b[0m\u001b[0;34m'pinv_wexog'\u001b[0m\u001b[0;34m,\u001b[0m \u001b[0;34m'weights'\u001b[0m\u001b[0;34m]\u001b[0m\u001b[0;34m)\u001b[0m\u001b[0;34m\u001b[0m\u001b[0;34m\u001b[0m\u001b[0m\n\u001b[1;32m    192\u001b[0m \u001b[0;34m\u001b[0m\u001b[0m\n",
      "\u001b[0;32m/opt/anaconda3/lib/python3.8/site-packages/statsmodels/base/model.py\u001b[0m in \u001b[0;36m__init__\u001b[0;34m(self, endog, exog, **kwargs)\u001b[0m\n\u001b[1;32m    235\u001b[0m \u001b[0;34m\u001b[0m\u001b[0m\n\u001b[1;32m    236\u001b[0m     \u001b[0;32mdef\u001b[0m \u001b[0m__init__\u001b[0m\u001b[0;34m(\u001b[0m\u001b[0mself\u001b[0m\u001b[0;34m,\u001b[0m \u001b[0mendog\u001b[0m\u001b[0;34m,\u001b[0m \u001b[0mexog\u001b[0m\u001b[0;34m=\u001b[0m\u001b[0;32mNone\u001b[0m\u001b[0;34m,\u001b[0m \u001b[0;34m**\u001b[0m\u001b[0mkwargs\u001b[0m\u001b[0;34m)\u001b[0m\u001b[0;34m:\u001b[0m\u001b[0;34m\u001b[0m\u001b[0;34m\u001b[0m\u001b[0m\n\u001b[0;32m--> 237\u001b[0;31m         \u001b[0msuper\u001b[0m\u001b[0;34m(\u001b[0m\u001b[0mLikelihoodModel\u001b[0m\u001b[0;34m,\u001b[0m \u001b[0mself\u001b[0m\u001b[0;34m)\u001b[0m\u001b[0;34m.\u001b[0m\u001b[0m__init__\u001b[0m\u001b[0;34m(\u001b[0m\u001b[0mendog\u001b[0m\u001b[0;34m,\u001b[0m \u001b[0mexog\u001b[0m\u001b[0;34m,\u001b[0m \u001b[0;34m**\u001b[0m\u001b[0mkwargs\u001b[0m\u001b[0;34m)\u001b[0m\u001b[0;34m\u001b[0m\u001b[0;34m\u001b[0m\u001b[0m\n\u001b[0m\u001b[1;32m    238\u001b[0m         \u001b[0mself\u001b[0m\u001b[0;34m.\u001b[0m\u001b[0minitialize\u001b[0m\u001b[0;34m(\u001b[0m\u001b[0;34m)\u001b[0m\u001b[0;34m\u001b[0m\u001b[0;34m\u001b[0m\u001b[0m\n\u001b[1;32m    239\u001b[0m \u001b[0;34m\u001b[0m\u001b[0m\n",
      "\u001b[0;32m/opt/anaconda3/lib/python3.8/site-packages/statsmodels/base/model.py\u001b[0m in \u001b[0;36m__init__\u001b[0;34m(self, endog, exog, **kwargs)\u001b[0m\n\u001b[1;32m     75\u001b[0m         \u001b[0mmissing\u001b[0m \u001b[0;34m=\u001b[0m \u001b[0mkwargs\u001b[0m\u001b[0;34m.\u001b[0m\u001b[0mpop\u001b[0m\u001b[0;34m(\u001b[0m\u001b[0;34m'missing'\u001b[0m\u001b[0;34m,\u001b[0m \u001b[0;34m'none'\u001b[0m\u001b[0;34m)\u001b[0m\u001b[0;34m\u001b[0m\u001b[0;34m\u001b[0m\u001b[0m\n\u001b[1;32m     76\u001b[0m         \u001b[0mhasconst\u001b[0m \u001b[0;34m=\u001b[0m \u001b[0mkwargs\u001b[0m\u001b[0;34m.\u001b[0m\u001b[0mpop\u001b[0m\u001b[0;34m(\u001b[0m\u001b[0;34m'hasconst'\u001b[0m\u001b[0;34m,\u001b[0m \u001b[0;32mNone\u001b[0m\u001b[0;34m)\u001b[0m\u001b[0;34m\u001b[0m\u001b[0;34m\u001b[0m\u001b[0m\n\u001b[0;32m---> 77\u001b[0;31m         self.data = self._handle_data(endog, exog, missing, hasconst,\n\u001b[0m\u001b[1;32m     78\u001b[0m                                       **kwargs)\n\u001b[1;32m     79\u001b[0m         \u001b[0mself\u001b[0m\u001b[0;34m.\u001b[0m\u001b[0mk_constant\u001b[0m \u001b[0;34m=\u001b[0m \u001b[0mself\u001b[0m\u001b[0;34m.\u001b[0m\u001b[0mdata\u001b[0m\u001b[0;34m.\u001b[0m\u001b[0mk_constant\u001b[0m\u001b[0;34m\u001b[0m\u001b[0;34m\u001b[0m\u001b[0m\n",
      "\u001b[0;32m/opt/anaconda3/lib/python3.8/site-packages/statsmodels/base/model.py\u001b[0m in \u001b[0;36m_handle_data\u001b[0;34m(self, endog, exog, missing, hasconst, **kwargs)\u001b[0m\n\u001b[1;32m     99\u001b[0m \u001b[0;34m\u001b[0m\u001b[0m\n\u001b[1;32m    100\u001b[0m     \u001b[0;32mdef\u001b[0m \u001b[0m_handle_data\u001b[0m\u001b[0;34m(\u001b[0m\u001b[0mself\u001b[0m\u001b[0;34m,\u001b[0m \u001b[0mendog\u001b[0m\u001b[0;34m,\u001b[0m \u001b[0mexog\u001b[0m\u001b[0;34m,\u001b[0m \u001b[0mmissing\u001b[0m\u001b[0;34m,\u001b[0m \u001b[0mhasconst\u001b[0m\u001b[0;34m,\u001b[0m \u001b[0;34m**\u001b[0m\u001b[0mkwargs\u001b[0m\u001b[0;34m)\u001b[0m\u001b[0;34m:\u001b[0m\u001b[0;34m\u001b[0m\u001b[0;34m\u001b[0m\u001b[0m\n\u001b[0;32m--> 101\u001b[0;31m         \u001b[0mdata\u001b[0m \u001b[0;34m=\u001b[0m \u001b[0mhandle_data\u001b[0m\u001b[0;34m(\u001b[0m\u001b[0mendog\u001b[0m\u001b[0;34m,\u001b[0m \u001b[0mexog\u001b[0m\u001b[0;34m,\u001b[0m \u001b[0mmissing\u001b[0m\u001b[0;34m,\u001b[0m \u001b[0mhasconst\u001b[0m\u001b[0;34m,\u001b[0m \u001b[0;34m**\u001b[0m\u001b[0mkwargs\u001b[0m\u001b[0;34m)\u001b[0m\u001b[0;34m\u001b[0m\u001b[0;34m\u001b[0m\u001b[0m\n\u001b[0m\u001b[1;32m    102\u001b[0m         \u001b[0;31m# kwargs arrays could have changed, easier to just attach here\u001b[0m\u001b[0;34m\u001b[0m\u001b[0;34m\u001b[0m\u001b[0;34m\u001b[0m\u001b[0m\n\u001b[1;32m    103\u001b[0m         \u001b[0;32mfor\u001b[0m \u001b[0mkey\u001b[0m \u001b[0;32min\u001b[0m \u001b[0mkwargs\u001b[0m\u001b[0;34m:\u001b[0m\u001b[0;34m\u001b[0m\u001b[0;34m\u001b[0m\u001b[0m\n",
      "\u001b[0;32m/opt/anaconda3/lib/python3.8/site-packages/statsmodels/base/data.py\u001b[0m in \u001b[0;36mhandle_data\u001b[0;34m(endog, exog, missing, hasconst, **kwargs)\u001b[0m\n\u001b[1;32m    670\u001b[0m \u001b[0;34m\u001b[0m\u001b[0m\n\u001b[1;32m    671\u001b[0m     \u001b[0mklass\u001b[0m \u001b[0;34m=\u001b[0m \u001b[0mhandle_data_class_factory\u001b[0m\u001b[0;34m(\u001b[0m\u001b[0mendog\u001b[0m\u001b[0;34m,\u001b[0m \u001b[0mexog\u001b[0m\u001b[0;34m)\u001b[0m\u001b[0;34m\u001b[0m\u001b[0;34m\u001b[0m\u001b[0m\n\u001b[0;32m--> 672\u001b[0;31m     return klass(endog, exog=exog, missing=missing, hasconst=hasconst,\n\u001b[0m\u001b[1;32m    673\u001b[0m                  **kwargs)\n",
      "\u001b[0;32m/opt/anaconda3/lib/python3.8/site-packages/statsmodels/base/data.py\u001b[0m in \u001b[0;36m__init__\u001b[0;34m(self, endog, exog, missing, hasconst, **kwargs)\u001b[0m\n\u001b[1;32m     85\u001b[0m         \u001b[0mself\u001b[0m\u001b[0;34m.\u001b[0m\u001b[0mconst_idx\u001b[0m \u001b[0;34m=\u001b[0m \u001b[0;32mNone\u001b[0m\u001b[0;34m\u001b[0m\u001b[0;34m\u001b[0m\u001b[0m\n\u001b[1;32m     86\u001b[0m         \u001b[0mself\u001b[0m\u001b[0;34m.\u001b[0m\u001b[0mk_constant\u001b[0m \u001b[0;34m=\u001b[0m \u001b[0;36m0\u001b[0m\u001b[0;34m\u001b[0m\u001b[0;34m\u001b[0m\u001b[0m\n\u001b[0;32m---> 87\u001b[0;31m         \u001b[0mself\u001b[0m\u001b[0;34m.\u001b[0m\u001b[0m_handle_constant\u001b[0m\u001b[0;34m(\u001b[0m\u001b[0mhasconst\u001b[0m\u001b[0;34m)\u001b[0m\u001b[0;34m\u001b[0m\u001b[0;34m\u001b[0m\u001b[0m\n\u001b[0m\u001b[1;32m     88\u001b[0m         \u001b[0mself\u001b[0m\u001b[0;34m.\u001b[0m\u001b[0m_check_integrity\u001b[0m\u001b[0;34m(\u001b[0m\u001b[0;34m)\u001b[0m\u001b[0;34m\u001b[0m\u001b[0;34m\u001b[0m\u001b[0m\n\u001b[1;32m     89\u001b[0m         \u001b[0mself\u001b[0m\u001b[0;34m.\u001b[0m\u001b[0m_cache\u001b[0m \u001b[0;34m=\u001b[0m \u001b[0;34m{\u001b[0m\u001b[0;34m}\u001b[0m\u001b[0;34m\u001b[0m\u001b[0;34m\u001b[0m\u001b[0m\n",
      "\u001b[0;32m/opt/anaconda3/lib/python3.8/site-packages/statsmodels/base/data.py\u001b[0m in \u001b[0;36m_handle_constant\u001b[0;34m(self, hasconst)\u001b[0m\n\u001b[1;32m    131\u001b[0m             \u001b[0mexog_max\u001b[0m \u001b[0;34m=\u001b[0m \u001b[0mnp\u001b[0m\u001b[0;34m.\u001b[0m\u001b[0mmax\u001b[0m\u001b[0;34m(\u001b[0m\u001b[0mself\u001b[0m\u001b[0;34m.\u001b[0m\u001b[0mexog\u001b[0m\u001b[0;34m,\u001b[0m \u001b[0maxis\u001b[0m\u001b[0;34m=\u001b[0m\u001b[0;36m0\u001b[0m\u001b[0;34m)\u001b[0m\u001b[0;34m\u001b[0m\u001b[0;34m\u001b[0m\u001b[0m\n\u001b[1;32m    132\u001b[0m             \u001b[0;32mif\u001b[0m \u001b[0;32mnot\u001b[0m \u001b[0mnp\u001b[0m\u001b[0;34m.\u001b[0m\u001b[0misfinite\u001b[0m\u001b[0;34m(\u001b[0m\u001b[0mexog_max\u001b[0m\u001b[0;34m)\u001b[0m\u001b[0;34m.\u001b[0m\u001b[0mall\u001b[0m\u001b[0;34m(\u001b[0m\u001b[0;34m)\u001b[0m\u001b[0;34m:\u001b[0m\u001b[0;34m\u001b[0m\u001b[0;34m\u001b[0m\u001b[0m\n\u001b[0;32m--> 133\u001b[0;31m                 \u001b[0;32mraise\u001b[0m \u001b[0mMissingDataError\u001b[0m\u001b[0;34m(\u001b[0m\u001b[0;34m'exog contains inf or nans'\u001b[0m\u001b[0;34m)\u001b[0m\u001b[0;34m\u001b[0m\u001b[0;34m\u001b[0m\u001b[0m\n\u001b[0m\u001b[1;32m    134\u001b[0m             \u001b[0mexog_min\u001b[0m \u001b[0;34m=\u001b[0m \u001b[0mnp\u001b[0m\u001b[0;34m.\u001b[0m\u001b[0mmin\u001b[0m\u001b[0;34m(\u001b[0m\u001b[0mself\u001b[0m\u001b[0;34m.\u001b[0m\u001b[0mexog\u001b[0m\u001b[0;34m,\u001b[0m \u001b[0maxis\u001b[0m\u001b[0;34m=\u001b[0m\u001b[0;36m0\u001b[0m\u001b[0;34m)\u001b[0m\u001b[0;34m\u001b[0m\u001b[0;34m\u001b[0m\u001b[0m\n\u001b[1;32m    135\u001b[0m             \u001b[0mconst_idx\u001b[0m \u001b[0;34m=\u001b[0m \u001b[0mnp\u001b[0m\u001b[0;34m.\u001b[0m\u001b[0mwhere\u001b[0m\u001b[0;34m(\u001b[0m\u001b[0mexog_max\u001b[0m \u001b[0;34m==\u001b[0m \u001b[0mexog_min\u001b[0m\u001b[0;34m)\u001b[0m\u001b[0;34m[\u001b[0m\u001b[0;36m0\u001b[0m\u001b[0;34m]\u001b[0m\u001b[0;34m.\u001b[0m\u001b[0msqueeze\u001b[0m\u001b[0;34m(\u001b[0m\u001b[0;34m)\u001b[0m\u001b[0;34m\u001b[0m\u001b[0;34m\u001b[0m\u001b[0m\n",
      "\u001b[0;31mMissingDataError\u001b[0m: exog contains inf or nans"
     ]
    },
    {
     "data": {
      "image/png": "[encoded data removed]",
      "text/plain": [
       "<Figure size 720x432 with 1 Axes>"
      ]
     },
     "metadata": {
      "needs_background": "light"
     },
     "output_type": "display_data"
    }
   ],
   "source": [
    "import statsmodels.api as sm\n",
    "\n",
    "# Assuming all_data is your DataFrame containing the required columns\n",
    "# Calculate GM_fraction\n",
    "all_data['GM_fraction'] = all_data['fGM_vol'] / (all_data['fGM_vol'] + all_data['fWM_vol'])\n",
    "\n",
    "# Plotting\n",
    "plt.figure(figsize=(10, 6))\n",
    "\n",
    "# Scatter plot for NAA_MolalCSF vs GM_fraction\n",
    "sns.scatterplot(data=all_data, x='GM_fraction', y='NAA_MolalCSF', label='CSF correction')\n",
    "\n",
    "# Regression line for NAA_MolalCSF vs GM_fraction\n",
    "X = sm.add_constant(all_data['GM_fraction'])\n",
    "model_NAA_MolalCSF = sm.OLS(all_data['NAA_MolalCSF'], X).fit()\n",
    "sns.regplot(data=all_data, x='GM_fraction', y='NAA_MolalCSF', scatter=False, label=f'Regression line for CSF correction\\nR-squared: {model_NAA_MolalCSF.rsquared:.2f}, p-value: {model_NAA_MolalCSF.pvalues[1]:.4f}\\nEquation: y = {model_NAA_MolalCSF.params[0]:.2f} + {model_NAA_MolalCSF.params[1]:.2f}x')\n",
    "\n",
    "# Scatter plot for NAA_MolalAlpha vs GM_fraction\n",
    "sns.scatterplot(data=all_data, x='GM_fraction', y='NAA_MolalAlpha', label='Alpha correction')\n",
    "\n",
    "# Regression line for NAA_MolalAlpha vs GM_fraction\n",
    "model_NAA_MolalAlpha = sm.OLS(all_data['NAA_MolalAlpha'], X).fit()\n",
    "sns.regplot(data=all_data, x='GM_fraction', y='NAA_MolalAlpha', scatter=False, label=f'Regression line for alpha correction\\nR-squared: {model_NAA_MolalAlpha.rsquared:.2f}, p-value: {model_NAA_MolalAlpha.pvalues[1]:.4f}\\nEquation: y = {model_NAA_MolalAlpha.params[0]:.2f} + {model_NAA_MolalAlpha.params[1]:.2f}x')\n",
    "\n",
    "plt.legend()\n",
    "plt.xlabel('GM fraction')\n",
    "plt.ylabel('tNAA (mmol/kg)')\n",
    "plt.title('tNAA')\n",
    "plt.show()\n",
    "\n",
    "\n",
    "# Plotting\n",
    "plt.figure(figsize=(10, 6))\n",
    "\n",
    "# Scatter plot for Cr_MolalCSF vs GM_fraction\n",
    "sns.scatterplot(data=all_data, x='GM_fraction', y='Cr_MolalCSF', label='CSF correction')\n",
    "\n",
    "# Regression line for Cr_MolalCSF vs GM_fraction\n",
    "X = sm.add_constant(all_data['GM_fraction'])\n",
    "model_Cr_MolalCSF = sm.OLS(all_data['Cr_MolalCSF'], X).fit()\n",
    "sns.regplot(data=all_data, x='GM_fraction', y='Cr_MolalCSF', scatter=False, label=f'Regression line for CSF correction\\nR-squared: {model_Cr_MolalCSF.rsquared:.2f}, p-value: {model_Cr_MolalCSF.pvalues[1]:.4f}\\nEquation: y = {model_Cr_MolalCSF.params[0]:.2f} + {model_Cr_MolalCSF.params[1]:.2f}x')\n",
    "\n",
    "# Scatter plot for Cr_MolalAlpha vs GM_fraction\n",
    "sns.scatterplot(data=all_data, x='GM_fraction', y='Cr_MolalAlpha', label='Alpha correction')\n",
    "\n",
    "# Regression line for Cr_MolalAlpha vs GM_fraction\n",
    "model_Cr_MolalAlpha = sm.OLS(all_data['Cr_MolalAlpha'], X).fit()\n",
    "sns.regplot(data=all_data, x='GM_fraction', y='Cr_MolalAlpha', scatter=False, label=f'Regression line for alpha correction\\nR-squared: {model_Cr_MolalAlpha.rsquared:.2f}, p-value: {model_Cr_MolalAlpha.pvalues[1]:.4f}\\nEquation: y = {model_Cr_MolalAlpha.params[0]:.2f} + {model_Cr_MolalAlpha.params[1]:.2f}x')\n",
    "\n",
    "plt.legend()\n",
    "plt.xlabel('GM fraction')\n",
    "plt.ylabel('tCr (mmol/kg)')\n",
    "plt.title('tCr')\n",
    "plt.show()\n",
    "\n",
    "# Plotting\n",
    "plt.figure(figsize=(10, 6))\n",
    "\n",
    "# Scatter plot for Cho_MolalCSF vs GM_fraction\n",
    "sns.scatterplot(data=all_data, x='GM_fraction', y='Cho_MolalCSF', label='CSF correction')\n",
    "\n",
    "# Regression line for Cho_MolalCSF vs GM_fraction\n",
    "X = sm.add_constant(all_data['GM_fraction'])\n",
    "model_Cho_MolalCSF = sm.OLS(all_data['Cho_MolalCSF'], X).fit()\n",
    "sns.regplot(data=all_data, x='GM_fraction', y='Cho_MolalCSF', scatter=False, label=f'Regression line for CSF correction\\nR-squared: {model_Cho_MolalCSF.rsquared:.2f}, p-value: {model_Cho_MolalCSF.pvalues[1]:.4f}\\nEquation: y = {model_Cho_MolalCSF.params[0]:.2f} + {model_Cho_MolalCSF.params[1]:.2f}x')\n",
    "\n",
    "# Scatter plot for Cho_MolalAlpha vs GM_fraction\n",
    "sns.scatterplot(data=all_data, x='GM_fraction', y='Cho_MolalAlpha', label='Alpha correction')\n",
    "\n",
    "# Regression line for Cho_MolalAlpha vs GM_fraction\n",
    "model_Cho_MolalAlpha = sm.OLS(all_data['Cho_MolalAlpha'], X).fit()\n",
    "sns.regplot(data=all_data, x='GM_fraction', y='Cho_MolalAlpha', scatter=False, label=f'Regression line for alpha correction\\nR-squared: {model_Cho_MolalAlpha.rsquared:.2f}, p-value: {model_Cho_MolalAlpha.pvalues[1]:.4f}\\nEquation: y = {model_Cho_MolalAlpha.params[0]:.2f} + {model_Cho_MolalAlpha.params[1]:.2f}x')\n",
    "\n",
    "plt.legend()\n",
    "plt.xlabel('GM fraction')\n",
    "plt.ylabel('tCho (mmol/kg)')\n",
    "plt.title('tCho')\n",
    "plt.show()\n",
    "\n",
    "\n",
    "# Plotting\n",
    "plt.figure(figsize=(10, 6))\n",
    "\n",
    "# Scatter plot for Myo_MolalCSF vs GM_fraction\n",
    "sns.scatterplot(data=all_data, x='GM_fraction', y='Myo_MolalCSF', label='CSF correction')\n",
    "\n",
    "# Regression line for Myo_MolalCSF vs GM_fraction\n",
    "X = sm.add_constant(all_data['GM_fraction'])\n",
    "model_Myo_MolalCSF = sm.OLS(all_data['Myo_MolalCSF'], X).fit()\n",
    "sns.regplot(data=all_data, x='GM_fraction', y='Myo_MolalCSF', scatter=False, label=f'Regression line for CSF correction\\nR-squared: {model_Myo_MolalCSF.rsquared:.2f}, p-value: {model_Myo_MolalCSF.pvalues[1]:.4f}\\nEquation: y = {model_Myo_MolalCSF.params[0]:.2f} + {model_Myo_MolalCSF.params[1]:.2f}x')\n",
    "\n",
    "# Scatter plot for Myo_MolalAlpha vs GM_fraction\n",
    "sns.scatterplot(data=all_data, x='GM_fraction', y='Myo_MolalAlpha', label='Alpha correction')\n",
    "\n",
    "# Regression line for Myo_MolalAlpha vs GM_fraction\n",
    "model_Myo_MolalAlpha = sm.OLS(all_data['Myo_MolalAlpha'], X).fit()\n",
    "sns.regplot(data=all_data, x='GM_fraction', y='Myo_MolalAlpha', scatter=False, label=f'Regression line for alpha correction\\nR-squared: {model_Myo_MolalAlpha.rsquared:.2f}, p-value: {model_Myo_MolalAlpha.pvalues[1]:.4f}\\nEquation: y = {model_Myo_MolalAlpha.params[0]:.2f} + {model_Myo_MolalAlpha.params[1]:.2f}x')\n",
    "\n",
    "plt.legend()\n",
    "plt.xlabel('GM fraction')\n",
    "plt.ylabel('Myo (mmol/kg)')\n",
    "plt.title('Myo')\n",
    "plt.show()\n",
    "\n",
    "\n",
    "\n",
    "# Plotting\n",
    "plt.figure(figsize=(10, 6))\n",
    "\n",
    "# Scatter plot for Glu_MolalCSF vs GM_fraction\n",
    "sns.scatterplot(data=all_data, x='GM_fraction', y='Glu_MolalCSF', label='CSF correction')\n",
    "\n",
    "# Regression line for Glu_MolalCSF vs GM_fraction\n",
    "X = sm.add_constant(all_data['GM_fraction'])\n",
    "model_Glu_MolalCSF = sm.OLS(all_data['Glu_MolalCSF'], X).fit()\n",
    "sns.regplot(data=all_data, x='GM_fraction', y='Glu_MolalCSF', scatter=False, label=f'Regression line for CSF correction\\nR-squared: {model_Glu_MolalCSF.rsquared:.2f}, p-value: {model_Glu_MolalCSF.pvalues[1]:.4f}\\nEquation: y = {model_Glu_MolalCSF.params[0]:.2f} + {model_Glu_MolalCSF.params[1]:.2f}x')\n",
    "\n",
    "# Scatter plot for Glu_MolalAlpha vs GM_fraction\n",
    "sns.scatterplot(data=all_data, x='GM_fraction', y='Glu_MolalAlpha', label='Alpha correction')\n",
    "\n",
    "# Regression line for Glu_MolalAlpha vs GM_fraction\n",
    "model_Glu_MolalAlpha = sm.OLS(all_data['Glu_MolalAlpha'], X).fit()\n",
    "sns.regplot(data=all_data, x='GM_fraction', y='Glu_MolalAlpha', scatter=False, label=f'Regression line for alpha correction\\nR-squared: {model_Glu_MolalAlpha.rsquared:.2f}, p-value: {model_Glu_MolalAlpha.pvalues[1]:.4f}\\nEquation: y = {model_Glu_MolalAlpha.params[0]:.2f} + {model_Glu_MolalAlpha.params[1]:.2f}x')\n",
    "\n",
    "plt.legend()\n",
    "plt.xlabel('GM fraction')\n",
    "plt.ylabel('Glu (mmol/kg)')\n",
    "plt.title('Glu')\n",
    "plt.show()\n",
    "\n",
    "\n",
    "\n",
    "# Plotting\n",
    "plt.figure(figsize=(10, 6))\n",
    "\n",
    "# Scatter plot for Glx_MolalCSF vs GM_fraction\n",
    "sns.scatterplot(data=all_data, x='GM_fraction', y='Glx_MolalCSF', label='CSF correction')\n",
    "\n",
    "# Regression line for Glx_MolalCSF vs GM_fraction\n",
    "X = sm.add_constant(all_data['GM_fraction'])\n",
    "model_Glx_MolalCSF = sm.OLS(all_data['Glx_MolalCSF'], X).fit()\n",
    "sns.regplot(data=all_data, x='GM_fraction', y='Glx_MolalCSF', scatter=False, label=f'Regression line for CSF correction\\nR-squared: {model_Glx_MolalCSF.rsquared:.2f}, p-value: {model_Glx_MolalCSF.pvalues[1]:.4f}\\nEquation: y = {model_Glx_MolalCSF.params[0]:.2f} + {model_Glx_MolalCSF.params[1]:.2f}x')\n",
    "\n",
    "# Scatter plot for Glx_MolalAlpha vs GM_fraction\n",
    "sns.scatterplot(data=all_data, x='GM_fraction', y='Glx_MolalAlpha', label='Alpha correction')\n",
    "\n",
    "# Regression line for Glx_MolalAlpha vs GM_fraction\n",
    "model_Glx_MolalAlpha = sm.OLS(all_data['Glx_MolalAlpha'], X).fit()\n",
    "sns.regplot(data=all_data, x='GM_fraction', y='Glx_MolalAlpha', scatter=False, label=f'Regression line for alpha correction\\nR-squared: {model_Glx_MolalAlpha.rsquared:.2f}, p-value: {model_Glx_MolalAlpha.pvalues[1]:.4f}\\nEquation: y = {model_Glx_MolalAlpha.params[0]:.2f} + {model_Glx_MolalAlpha.params[1]:.2f}x')\n",
    "\n",
    "plt.legend()\n",
    "plt.xlabel('GM fraction')\n",
    "plt.ylabel('Glx (mmol/kg)')\n",
    "plt.title('Glx')\n",
    "plt.show()\n"
   ]
  }
 ],
 "metadata": {
  "kernelspec": {
   "display_name": "Python 3",
   "language": "python",
   "name": "python3"
  },
  "language_info": {
   "codemirror_mode": {
    "name": "ipython",
    "version": 3
   },
   "file_extension": ".py",
   "mimetype": "text/x-python",
   "name": "python",
   "nbconvert_exporter": "python",
   "pygments_lexer": "ipython3",
   "version": "3.8.5"
  }
 },
 "nbformat": 4,
 "nbformat_minor": 4
}
